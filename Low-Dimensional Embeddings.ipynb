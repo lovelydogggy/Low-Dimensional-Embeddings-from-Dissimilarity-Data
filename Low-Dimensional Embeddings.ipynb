{
 "cells": [
  {
   "cell_type": "code",
   "execution_count": 7,
   "metadata": {},
   "outputs": [
    {
     "data": {
      "text/html": [
       "<div>\n",
       "<style scoped>\n",
       "    .dataframe tbody tr th:only-of-type {\n",
       "        vertical-align: middle;\n",
       "    }\n",
       "\n",
       "    .dataframe tbody tr th {\n",
       "        vertical-align: top;\n",
       "    }\n",
       "\n",
       "    .dataframe thead th {\n",
       "        text-align: right;\n",
       "    }\n",
       "</style>\n",
       "<table border=\"1\" class=\"dataframe\">\n",
       "  <thead>\n",
       "    <tr style=\"text-align: right;\">\n",
       "      <th></th>\n",
       "      <th>BOS</th>\n",
       "      <th>NYC</th>\n",
       "      <th>DC</th>\n",
       "      <th>MIA</th>\n",
       "      <th>CHI</th>\n",
       "      <th>SEA</th>\n",
       "      <th>SF</th>\n",
       "      <th>LA</th>\n",
       "      <th>DEN</th>\n",
       "    </tr>\n",
       "  </thead>\n",
       "  <tbody>\n",
       "    <tr>\n",
       "      <th>0</th>\n",
       "      <td>0</td>\n",
       "      <td>206</td>\n",
       "      <td>429</td>\n",
       "      <td>1504</td>\n",
       "      <td>963</td>\n",
       "      <td>2976</td>\n",
       "      <td>3095</td>\n",
       "      <td>2979</td>\n",
       "      <td>1949</td>\n",
       "    </tr>\n",
       "    <tr>\n",
       "      <th>1</th>\n",
       "      <td>206</td>\n",
       "      <td>0</td>\n",
       "      <td>233</td>\n",
       "      <td>1308</td>\n",
       "      <td>802</td>\n",
       "      <td>2815</td>\n",
       "      <td>2934</td>\n",
       "      <td>2786</td>\n",
       "      <td>1771</td>\n",
       "    </tr>\n",
       "    <tr>\n",
       "      <th>2</th>\n",
       "      <td>429</td>\n",
       "      <td>233</td>\n",
       "      <td>0</td>\n",
       "      <td>1075</td>\n",
       "      <td>671</td>\n",
       "      <td>2684</td>\n",
       "      <td>2799</td>\n",
       "      <td>2631</td>\n",
       "      <td>1616</td>\n",
       "    </tr>\n",
       "    <tr>\n",
       "      <th>3</th>\n",
       "      <td>1504</td>\n",
       "      <td>1308</td>\n",
       "      <td>1075</td>\n",
       "      <td>0</td>\n",
       "      <td>1329</td>\n",
       "      <td>3273</td>\n",
       "      <td>3053</td>\n",
       "      <td>2687</td>\n",
       "      <td>2037</td>\n",
       "    </tr>\n",
       "    <tr>\n",
       "      <th>4</th>\n",
       "      <td>963</td>\n",
       "      <td>802</td>\n",
       "      <td>671</td>\n",
       "      <td>1329</td>\n",
       "      <td>0</td>\n",
       "      <td>2013</td>\n",
       "      <td>2142</td>\n",
       "      <td>2054</td>\n",
       "      <td>996</td>\n",
       "    </tr>\n",
       "    <tr>\n",
       "      <th>5</th>\n",
       "      <td>2976</td>\n",
       "      <td>2815</td>\n",
       "      <td>2684</td>\n",
       "      <td>3273</td>\n",
       "      <td>2013</td>\n",
       "      <td>0</td>\n",
       "      <td>808</td>\n",
       "      <td>1131</td>\n",
       "      <td>1307</td>\n",
       "    </tr>\n",
       "    <tr>\n",
       "      <th>6</th>\n",
       "      <td>3095</td>\n",
       "      <td>2934</td>\n",
       "      <td>2799</td>\n",
       "      <td>3053</td>\n",
       "      <td>2142</td>\n",
       "      <td>808</td>\n",
       "      <td>0</td>\n",
       "      <td>379</td>\n",
       "      <td>1235</td>\n",
       "    </tr>\n",
       "    <tr>\n",
       "      <th>7</th>\n",
       "      <td>2979</td>\n",
       "      <td>2786</td>\n",
       "      <td>2631</td>\n",
       "      <td>2687</td>\n",
       "      <td>2054</td>\n",
       "      <td>1131</td>\n",
       "      <td>379</td>\n",
       "      <td>0</td>\n",
       "      <td>1059</td>\n",
       "    </tr>\n",
       "    <tr>\n",
       "      <th>8</th>\n",
       "      <td>1949</td>\n",
       "      <td>1771</td>\n",
       "      <td>1616</td>\n",
       "      <td>2037</td>\n",
       "      <td>996</td>\n",
       "      <td>1307</td>\n",
       "      <td>1235</td>\n",
       "      <td>1059</td>\n",
       "      <td>0</td>\n",
       "    </tr>\n",
       "  </tbody>\n",
       "</table>\n",
       "</div>"
      ],
      "text/plain": [
       "    BOS     NYC     DC      MIA     CHI     SEA     SF      LA      DEN  \n",
       "0       0     206     429    1504     963    2976    3095    2979    1949\n",
       "1     206       0     233    1308     802    2815    2934    2786    1771\n",
       "2     429     233       0    1075     671    2684    2799    2631    1616\n",
       "3    1504    1308    1075       0    1329    3273    3053    2687    2037\n",
       "4     963     802     671    1329       0    2013    2142    2054     996\n",
       "5    2976    2815    2684    3273    2013       0     808    1131    1307\n",
       "6    3095    2934    2799    3053    2142     808       0     379    1235\n",
       "7    2979    2786    2631    2687    2054    1131     379       0    1059\n",
       "8    1949    1771    1616    2037     996    1307    1235    1059       0"
      ]
     },
     "execution_count": 7,
     "metadata": {},
     "output_type": "execute_result"
    }
   ],
   "source": [
    "import numpy as np\n",
    "import pandas as pd\n",
    "import matplotlib.pyplot as plt\n",
    "\n",
    "data = pd.read_csv(\"hw4_data.csv\")\n",
    "data.drop(data.columns[[0]], axis=1,inplace=True)\n",
    "data"
   ]
  },
  {
   "cell_type": "code",
   "execution_count": 8,
   "metadata": {},
   "outputs": [
    {
     "data": {
      "text/plain": [
       "['BOS', 'NYC', 'DC', 'MIA', 'CHI', 'SEA', 'SF', 'LA', 'DEN']"
      ]
     },
     "execution_count": 8,
     "metadata": {},
     "output_type": "execute_result"
    }
   ],
   "source": [
    "city_list = data.columns.values.tolist()\n",
    "for i in range(len(city_list)):\n",
    "    city_list[i] = city_list[i].strip()\n",
    "\n",
    "city_list"
   ]
  },
  {
   "cell_type": "code",
   "execution_count": 9,
   "metadata": {},
   "outputs": [
    {
     "data": {
      "text/plain": [
       "array([[ 0.88888889, -0.11111111, -0.11111111, -0.11111111, -0.11111111,\n",
       "        -0.11111111, -0.11111111, -0.11111111, -0.11111111],\n",
       "       [-0.11111111,  0.88888889, -0.11111111, -0.11111111, -0.11111111,\n",
       "        -0.11111111, -0.11111111, -0.11111111, -0.11111111],\n",
       "       [-0.11111111, -0.11111111,  0.88888889, -0.11111111, -0.11111111,\n",
       "        -0.11111111, -0.11111111, -0.11111111, -0.11111111],\n",
       "       [-0.11111111, -0.11111111, -0.11111111,  0.88888889, -0.11111111,\n",
       "        -0.11111111, -0.11111111, -0.11111111, -0.11111111],\n",
       "       [-0.11111111, -0.11111111, -0.11111111, -0.11111111,  0.88888889,\n",
       "        -0.11111111, -0.11111111, -0.11111111, -0.11111111],\n",
       "       [-0.11111111, -0.11111111, -0.11111111, -0.11111111, -0.11111111,\n",
       "         0.88888889, -0.11111111, -0.11111111, -0.11111111],\n",
       "       [-0.11111111, -0.11111111, -0.11111111, -0.11111111, -0.11111111,\n",
       "        -0.11111111,  0.88888889, -0.11111111, -0.11111111],\n",
       "       [-0.11111111, -0.11111111, -0.11111111, -0.11111111, -0.11111111,\n",
       "        -0.11111111, -0.11111111,  0.88888889, -0.11111111],\n",
       "       [-0.11111111, -0.11111111, -0.11111111, -0.11111111, -0.11111111,\n",
       "        -0.11111111, -0.11111111, -0.11111111,  0.88888889]])"
      ]
     },
     "execution_count": 9,
     "metadata": {},
     "output_type": "execute_result"
    }
   ],
   "source": [
    "one_mat = np.zeros((9,9)) + 1\n",
    "H_mat = np.eye(9) - one_mat/9\n",
    "H_mat"
   ]
  },
  {
   "cell_type": "code",
   "execution_count": 10,
   "metadata": {},
   "outputs": [
    {
     "data": {
      "text/plain": [
       "array([[ 2058374.34567901,  1779217.79012346,  1515885.2345679 ,\n",
       "         1136972.84567901,   656568.45679012, -1932962.32098765,\n",
       "        -2301805.93209877, -2211231.65432099,  -701018.7654321 ],\n",
       "       [ 1779217.79012346,  1542497.2345679 ,  1322822.67901235,\n",
       "         1154610.29012346,   540712.40123457, -1724725.37654321,\n",
       "        -2074409.98765432, -1912847.70987654,  -627877.32098765],\n",
       "       [ 1515885.2345679 ,  1322822.67901235,  1157437.12345679,\n",
       "         1239699.7345679 ,   444663.84567901, -1557070.93209877,\n",
       "        -1879962.54320988, -1685560.2654321 ,  -557914.87654321],\n",
       "       [ 1136972.84567901,  1154610.29012346,  1239699.7345679 ,\n",
       "         2477587.34567901,   446738.95679012, -2651332.32098765,\n",
       "        -1963091.43209877, -1174389.15432099,  -666796.2654321 ],\n",
       "       [  656568.45679012,   540712.40123457,   444663.84567901,\n",
       "          446738.95679012,   182131.56790123,  -468880.20987654,\n",
       "         -744496.82098765,  -821590.54320988,  -235847.65432099],\n",
       "       [-1932962.32098765, -1724725.37654321, -1557070.93209877,\n",
       "        -2651332.32098765,  -468880.20987654,  2932277.01234568,\n",
       "         2598225.90123457,  2023359.67901235,   781108.56790123],\n",
       "       [-2301805.93209876, -2074409.98765432, -1879962.54320988,\n",
       "        -1963091.43209876,  -744496.82098765,  2598225.90123457,\n",
       "         2917038.79012346,  2583500.56790123,   865001.45679012],\n",
       "       [-2211231.65432099, -1912847.70987654, -1685560.2654321 ,\n",
       "        -1174389.15432099,  -821590.54320988,  2023359.67901235,\n",
       "         2583500.56790123,  2393603.34567901,   805155.7345679 ],\n",
       "       [ -701018.7654321 ,  -627877.32098765,  -557914.87654321,\n",
       "         -666796.2654321 ,  -235847.65432099,   781108.56790123,\n",
       "          865001.45679012,   805155.7345679 ,   338189.12345679]])"
      ]
     },
     "execution_count": 10,
     "metadata": {},
     "output_type": "execute_result"
    }
   ],
   "source": [
    "data_mat = np.square(np.array(data))\n",
    "B_mat = -0.5*np.matmul(np.matmul(H_mat.T, data_mat),H_mat)\n",
    "B_mat"
   ]
  },
  {
   "cell_type": "code",
   "execution_count": 11,
   "metadata": {},
   "outputs": [
    {
     "data": {
      "text/plain": [
       "array([[ 0.36109486,  0.31721813,  0.17974193, -0.46896639, -0.28379668,\n",
       "        -0.4358173 , -0.1099768 , -0.35080372,  0.33333333],\n",
       "       [ 0.32098869,  0.21029868, -0.02532664, -0.18471798,  0.00939789,\n",
       "         0.19408103,  0.45462149,  0.68002278,  0.33333333],\n",
       "       [ 0.28835403,  0.09359572, -0.30958397,  0.23468125,  0.27726932,\n",
       "         0.39704703,  0.27705271, -0.57860206,  0.33333333],\n",
       "       [ 0.32850283, -0.69537389,  0.46256136,  0.27152993, -0.07983907,\n",
       "        -0.03851583, -0.03620323,  0.02387459,  0.33333333],\n",
       "       [ 0.11471526,  0.11978205, -0.49895737,  0.4242057 , -0.24916266,\n",
       "        -0.12195624, -0.54403322,  0.24401871,  0.33333333],\n",
       "       [-0.42735856,  0.43858078,  0.4512496 ,  0.48201059,  0.08109916,\n",
       "        -0.20092174,  0.17571701, -0.01081426,  0.33333333],\n",
       "       [-0.45441892, -0.09033973,  0.04646928, -0.25259793, -0.54289287,\n",
       "         0.54825175, -0.06668441, -0.09223069,  0.33333333],\n",
       "       [-0.39198655, -0.38457192, -0.43203669, -0.17256131,  0.1090818 ,\n",
       "        -0.48644404,  0.34933298, -0.01861698,  0.33333333],\n",
       "       [-0.13989163, -0.00918982,  0.12588248, -0.33358386,  0.67884311,\n",
       "         0.14427533, -0.49982655,  0.10315164,  0.33333333]])"
      ]
     },
     "execution_count": 11,
     "metadata": {},
     "output_type": "execute_result"
    }
   ],
   "source": [
    "eigenvalue, featurevector = np.linalg.eig(B_mat)\n",
    "featurevector"
   ]
  },
  {
   "cell_type": "code",
   "execution_count": 12,
   "metadata": {},
   "outputs": [
    {
     "data": {
      "image/png": "[encoded data removed]",
      "text/plain": [
       "<Figure size 432x288 with 1 Axes>"
      ]
     },
     "metadata": {},
     "output_type": "display_data"
    }
   ],
   "source": [
    "index = [i for i in range(1, 10)]\n",
    "plt.plot(index, eigenvalue)\n",
    "plt.show()"
   ]
  },
  {
   "cell_type": "code",
   "execution_count": 13,
   "metadata": {},
   "outputs": [
    {
     "data": {
      "text/plain": [
       "array([[ 1348.66832958,   462.40059815],\n",
       "       [ 1198.87410815,   306.54690023],\n",
       "       [ 1076.9855404 ,   136.43203542],\n",
       "       [ 1226.939011  , -1013.62838367],\n",
       "       [  428.45483272,   174.60316481],\n",
       "       [-1596.15940184,   639.30776896],\n",
       "       [-1697.22828136,  -131.68586278],\n",
       "       [-1464.04701004,  -560.5804599 ],\n",
       "       [ -522.4871286 ,   -13.39576123]])"
      ]
     },
     "execution_count": 13,
     "metadata": {},
     "output_type": "execute_result"
    }
   ],
   "source": [
    "result = np.dot(featurevector[:,:2],np.diag(np.sqrt(eigenvalue[:2])))\n",
    "result"
   ]
  },
  {
   "cell_type": "code",
   "execution_count": 14,
   "metadata": {},
   "outputs": [
    {
     "data": {
      "image/png": "[encoded data removed]",
      "text/plain": [
       "<Figure size 432x288 with 1 Axes>"
      ]
     },
     "metadata": {},
     "output_type": "display_data"
    }
   ],
   "source": [
    "plt.scatter(result[:, 0], result[:, 1], marker = '*')\n",
    "for i, word in enumerate(city_list):\n",
    "    plt.annotate(word,(result[:, 0][i], result[:, 1][i]))"
   ]
  },
  {
   "cell_type": "code",
   "execution_count": null,
   "metadata": {},
   "outputs": [],
   "source": []
  }
 ],
 "metadata": {
  "kernelspec": {
   "display_name": "Python 3",
   "language": "python",
   "name": "python3"
  },
  "language_info": {
   "codemirror_mode": {
    "name": "ipython",
    "version": 3
   },
   "file_extension": ".py",
   "mimetype": "text/x-python",
   "name": "python",
   "nbconvert_exporter": "python",
   "pygments_lexer": "ipython3",
   "version": "3.6.4"
  }
 },
 "nbformat": 4,
 "nbformat_minor": 2
}
